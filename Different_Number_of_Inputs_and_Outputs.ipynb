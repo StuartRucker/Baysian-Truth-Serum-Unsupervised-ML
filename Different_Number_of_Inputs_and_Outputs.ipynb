{
  "nbformat": 4,
  "nbformat_minor": 0,
  "metadata": {
    "colab": {
      "name": "Different Number of Inputs and Outputs.ipynb",
      "version": "0.3.2",
      "provenance": [],
      "collapsed_sections": []
    },
    "kernelspec": {
      "name": "python3",
      "display_name": "Python 3"
    }
  },
  "cells": [
    {
      "cell_type": "markdown",
      "metadata": {
        "id": "5tvbyFeXQrUW",
        "colab_type": "text"
      },
      "source": [
        "# Different Number of Inputs and Outputs\n",
        "\n",
        "generates graphs comparing the algorithms ability to maximize mutual information with various numbers of inputs and outputs"
      ]
    },
    {
      "cell_type": "code",
      "metadata": {
        "id": "ap_PDDpFQq3d",
        "colab_type": "code",
        "colab": {}
      },
      "source": [
        "import numpy as np\n",
        "import math\n",
        "import matplotlib.pyplot as plt\n",
        "import itertools\n",
        "from google.colab import files"
      ],
      "execution_count": 0,
      "outputs": []
    },
    {
      "cell_type": "code",
      "metadata": {
        "id": "lARupEohPf_r",
        "colab_type": "code",
        "colab": {}
      },
      "source": [
        "num_players = 2\n",
        "num_stimuli = 4\n",
        "\n",
        "\n",
        "\n",
        "num_iterations = 1500\n",
        "epsilon = .001\n",
        "inhibition = .333\n",
        "delta = .001\n",
        "beta = .5\n",
        "\n",
        "# response[a][b] is the probability neuron a (where a=0 means x) outputs 1\n",
        "# when the b stimulus happens (32 values)\n",
        "\n"
      ],
      "execution_count": 0,
      "outputs": []
    },
    {
      "cell_type": "code",
      "metadata": {
        "id": "lyDntjPhRY-O",
        "colab_type": "code",
        "colab": {}
      },
      "source": [
        "#conditional_probability[j][k][x][y] is P(node x = j | node y = k)\n",
        "def generate_conditional_probabilities_new(response):\n",
        "  expected_values_1 = stimuli_probability*response\n",
        "  expected_values_0 = stimuli_probability*(1-response)\n",
        "  expected_values_by_node_1 = np.sum(expected_values_1,axis=1)\n",
        "  expected_values_by_node_0 = np.sum(expected_values_0,axis=1)\n",
        "  average_by_stimuli_1 = np.average(response,axis=0)\n",
        "  average_by_stimuli_0 = np.average(1-response,axis=0)\n",
        "\n",
        "\n",
        "  result11 = np.reshape(np.tile(np.sum((expected_values_1.T / expected_values_by_node_1).T * average_by_stimuli_1,axis=1),num_players),(num_players,num_players))\n",
        "#   print(result11)\n",
        "  result10 = np.reshape(np.tile(np.sum((expected_values_0.T / expected_values_by_node_0).T * average_by_stimuli_1,axis=1),num_players),(num_players,num_players))\n",
        "  result01 = np.reshape(np.tile(np.sum((expected_values_1.T / expected_values_by_node_1).T * average_by_stimuli_0,axis=1),num_players),(num_players,num_players))\n",
        "  result00 = np.reshape(np.tile(np.sum((expected_values_0.T / expected_values_by_node_0).T * average_by_stimuli_0,axis=1),num_players),(num_players,num_players))\n",
        "#   result11 = np.matmul(stimuli_probability*response, response.T) /(np.dot(response,stimuli_probability))\n",
        "#     #j = 1, k = 0\n",
        "#   result10 = np.matmul(stimuli_probability*response, (1-response.T)) /(np.dot(1-response,stimuli_probability))\n",
        "#   result01 = np.matmul(stimuli_probability*(1-response), response.T) /(np.dot(response,stimuli_probability))\n",
        "#   result00 = np.matmul(stimuli_probability*(1-response), (1-response.T))/(np.dot(1-response,stimuli_probability))\n",
        "  \n",
        "  conditional_probability =  np.array([[result00,result01],[ result10,result11]])\n",
        "  return conditional_probability\n",
        "# print(response)\n",
        "# print()\n",
        "# print(stimuli_probability)\n",
        "# print()\n",
        "\n",
        "\n",
        "def conditional_tester(x,j,y,k):\n",
        "  sumj = 0\n",
        "  for j in range(num_stimuli):\n",
        "    sumj_term = (1-(response[0][j]+response[1][j]+response[2][j]+response[3][j])/4) * (1-response[y][j])*stimuli_probability[j]\n",
        "    \n",
        "    suml = 0\n",
        "    for l in range(num_stimuli):\n",
        "      suml += (1-response[y][l])*stimuli_probability[l]\n",
        "    sumj_term /= suml\n",
        "    sumj += sumj_term\n",
        "  return sumj\n",
        "#conditional_probability[j][k][x][y] is P(node x = j | node y = k)\n",
        "def generate_conditional_probabilities_old(response):\n",
        "  #j = 1, k = 1\n",
        "  result11 = np.matmul(stimuli_probability*response, response.T) /(np.dot(response,stimuli_probability))\n",
        "    #j = 1, k = 0\n",
        "  result10 = np.matmul(stimuli_probability*response, (1-response.T)) /(np.dot(1-response,stimuli_probability))\n",
        "  result01 = np.matmul(stimuli_probability*(1-response), response.T) /(np.dot(response,stimuli_probability))\n",
        "  result00 = np.matmul(stimuli_probability*(1-response), (1-response.T))/(np.dot(1-response,stimuli_probability))\n",
        "  \n",
        "  conditional_probability =  np.array([[result00,result01],[ result10,result11]])\n",
        "\n",
        "\n",
        "  return conditional_probability"
      ],
      "execution_count": 0,
      "outputs": []
    },
    {
      "cell_type": "markdown",
      "metadata": {
        "id": "0-fhMw_wvJe2",
        "colab_type": "text"
      },
      "source": [
        "![alt text](https://imgur.com/JugyNds.jpg)"
      ]
    },
    {
      "cell_type": "code",
      "metadata": {
        "id": "wEYS20LPOO5z",
        "colab_type": "code",
        "colab": {}
      },
      "source": [
        "# EV_values[x][b][c] is EV(Node x = c | S_b) \n",
        "def generate_BTS(conditional_probabilities,response):\n",
        "  EV_values = np.zeros(shape = (num_players,num_stimuli,2))\n",
        "  for node in range(num_players):\n",
        "    for stimuli in range(num_stimuli):\n",
        "\n",
        "      for output in range(2):\n",
        "        EV = 0\n",
        "        if output == 1:\n",
        "          EV = inhibition*math.log(np.average(response[:,stimuli]))\n",
        "        else:\n",
        "          EV = inhibition*math.log(1-np.average(response[:,stimuli]))\n",
        " \n",
        "        for node1 in range(num_players):\n",
        "          if node == node1:\n",
        "            continue\n",
        "          EV = EV - (1-response[node1][stimuli])*math.log(conditional_probabilities[output][0][node][node1]) \\\n",
        "           -response[node1][stimuli]*math.log(conditional_probabilities[output][1][node][node1])\n",
        "\n",
        "        EV_values[node][stimuli][output] = EV\n",
        "\n",
        "  return EV_values"
      ],
      "execution_count": 0,
      "outputs": []
    },
    {
      "cell_type": "markdown",
      "metadata": {
        "id": "PxsFkT4LvrAN",
        "colab_type": "text"
      },
      "source": [
        "![alt text](https://imgur.com/Wz4IFuh.jpg)"
      ]
    },
    {
      "cell_type": "code",
      "metadata": {
        "id": "Gz7rT57VvzAC",
        "colab_type": "code",
        "colab": {}
      },
      "source": [
        "#returns updated \"response\" matrix\n",
        "def update_response(EV, jitter,response):\n",
        "  new_responses = np.zeros(shape = ((num_players,num_stimuli)))\n",
        "  \n",
        "  for node in range(num_players):\n",
        "    for stimuli in range(num_stimuli):\n",
        "\n",
        "      numerator = response[node][stimuli]*math.exp(beta*(EV[node][stimuli][1]-EV[node][stimuli][0]))\n",
        "      denominator = 1-response[node][stimuli] + response[node][stimuli]*math.exp(beta*(EV[node][stimuli][1]-EV[node][stimuli][0]))\n",
        "      term = jitter + numerator/denominator\n",
        "      \n",
        "      new_responses[node][stimuli] = max(epsilon,min(1-epsilon,term))\n",
        "\n",
        "  return new_responses\n"
      ],
      "execution_count": 0,
      "outputs": []
    },
    {
      "cell_type": "markdown",
      "metadata": {
        "id": "ed-qlLNF2ezq",
        "colab_type": "text"
      },
      "source": [
        "![alt text](https://imgur.com/MMXg7VA.jpg)"
      ]
    },
    {
      "cell_type": "code",
      "metadata": {
        "id": "hTwAkvUonTAo",
        "colab_type": "code",
        "colab": {}
      },
      "source": [
        "def get_mutual_information(response):\n",
        "\n",
        "\n",
        "  binary_options = list(itertools.product([0, 1], repeat=num_players))\n",
        "  responses_both = [response,1-response]\n",
        "  \n",
        "  total_sum = 0\n",
        "  for stimuli in range(num_stimuli):\n",
        "    for options in binary_options:\n",
        "      Pxy = Pr(responses_both, options, stimuli)*stimuli_probability[stimuli]\n",
        "      Px = stimuli_probability[stimuli]\n",
        "      Py = 0\n",
        "      for stimuli_inner in range(num_stimuli):\n",
        "        Py += stimuli_probability[stimuli_inner]*Pr(responses_both, options, stimuli_inner)\n",
        "      total_sum += Pxy*math.log(Pxy/(Px*Py))\n",
        "  return total_sum\n",
        "\n",
        "#example: probability that the 4 nodes output [0,1,0,1] given the stimuli of index \"stimuli=6\"\n",
        "def Pr(responses_both, options, stimuli):\n",
        "  sums = 1\n",
        "  for player in range(num_players):\n",
        "    sums *= responses_both[options[player]][player][stimuli]\n",
        "  return sums\n",
        "# get_mutual_information()"
      ],
      "execution_count": 0,
      "outputs": []
    },
    {
      "cell_type": "code",
      "metadata": {
        "id": "wLxtuQnj2QVZ",
        "colab_type": "code",
        "cellView": "both",
        "colab": {}
      },
      "source": [
        "#@title\n",
        "#====NOT USED=====\n",
        "#yields same result as code above, but computation follows more closely to the directions\n",
        "def get_mutual_information_old():\n",
        "  total_sum = 0\n",
        "\n",
        "  binary_options = list(itertools.product([0, 1], repeat=num_players))\n",
        "  responses_both = [response,1-response]\n",
        "  \n",
        "  sums = 0\n",
        "  for stimuli in range(num_stimuli):\n",
        "    inner_sum = 0\n",
        "    for option in binary_options:\n",
        "      pr_value = Pr(responses_both,option,stimuli)\n",
        "#       print(pr_value*math.log(pr_value))\n",
        "      inner_sum += pr_value*math.log(pr_value)\n",
        "#     print(inner_sum)\n",
        "    sums += inner_sum*stimuli_probability[stimuli]\n",
        "  \n",
        "  sums1 = 0\n",
        "  for option in binary_options:\n",
        "    inner_sum = 0\n",
        "    for stimuli in range(num_stimuli):\n",
        "      inner_sum += Pr(responses_both,option,stimuli)*stimuli_probability[stimuli]\n",
        "    sums1 -= inner_sum * math.log(inner_sum)\n",
        "  return sums1+sums\n",
        "      \n",
        "def Pr(responses_both, options, stimuli):\n",
        "  sums = 1\n",
        "  for player in range(num_players):\n",
        "    sums *= responses_both[options[player]][player][stimuli]\n",
        "  return sums"
      ],
      "execution_count": 0,
      "outputs": []
    },
    {
      "cell_type": "markdown",
      "metadata": {
        "id": "wzefFKJn225K",
        "colab_type": "text"
      },
      "source": [
        "## display bar graph of responses"
      ]
    },
    {
      "cell_type": "code",
      "metadata": {
        "id": "SQFImxXXwwx2",
        "colab_type": "code",
        "cellView": "both",
        "colab": {}
      },
      "source": [
        "#@title\n",
        "def show_graph(response):\n",
        "\n",
        "\n",
        "  # data to plot\n",
        "\n",
        "  \n",
        "\n",
        "  # create plot\n",
        "  fig, ax = plt.subplots()\n",
        "  index = np.arange(num_stimuli)\n",
        "  bar_width = 0.1\n",
        "  opacity = 0.8\n",
        "  \n",
        "  colors = ['r','g','b','c','m','k']\n",
        "  for i in range(len(response)):\n",
        "    rects0 = plt.bar(index+bar_width*i, response[i], bar_width,\n",
        "                     color=colors[i],\n",
        "                     label='player {}'.format(i))\n",
        "\n",
        "\n",
        "  plt.xlabel('Stimuli')\n",
        "  plt.ylabel('Responsiveness')\n",
        "  plt.ylim(0,1)\n",
        "  plt.title('Responsiveness to stimuli by node')\n",
        "  plt.xticks(index + bar_width, ('Stim 1', '2', '3', '4','5','6','7','8'))\n",
        "  plt.legend()\n",
        "\n",
        "  \n",
        "  plt.show()"
      ],
      "execution_count": 0,
      "outputs": []
    },
    {
      "cell_type": "code",
      "metadata": {
        "id": "7KCOsSekWVt9",
        "colab_type": "code",
        "outputId": "42237386-94cd-43e3-db89-723eabcdae34",
        "colab": {
          "base_uri": "https://localhost:8080/",
          "height": 627
        }
      },
      "source": [
        "\n",
        "for k in range(10):\n",
        "\n",
        "  history = {\"x\":[],\"y\":[],\"y2\":[]}\n",
        "\n",
        "  response_old = np.random.uniform(size=(num_players,num_stimuli))\n",
        "  response_new = np.copy(response_old)\n",
        "\n",
        "  # response = np.repeat(np.random.uniform(size=(num_players,1)),num_stimuli, axis=1)\n",
        "\n",
        "  def softmax(x):\n",
        "      \"\"\"Compute softmax values for each sets of scores in x.\"\"\"\n",
        "      e_x = np.exp(x - np.max(x))\n",
        "      return e_x / e_x.sum()\n",
        "  # stimuli_probability = softmax(np.random.uniform(size=num_stimuli))\n",
        "  stimuli_probability = np.ones(num_stimuli)/num_stimuli\n",
        "  for i in range(0,num_iterations):\n",
        "\n",
        "    conditional_probabilities_old = generate_conditional_probabilities_old(response_old)\n",
        "    conditional_probabilities_new = generate_conditional_probabilities_new(response_new)\n",
        "\n",
        "\n",
        "    EV_old = generate_BTS(conditional_probabilities_old,response_old)\n",
        "    EV_new = generate_BTS(conditional_probabilities_new,response_new)\n",
        "\n",
        "    response_old = update_response(EV_old,np.random.uniform(low=-delta,high=delta),response_old)\n",
        "    response_new = update_response(EV_new,np.random.uniform(low=-delta,high=delta),response_new)\n",
        "    if i == 1000:\n",
        "      binary_options = list(itertools.product([epsilon, 1-epsilon], repeat=num_players))\n",
        "      for row in range(num_players):\n",
        "        for col in range(num_stimuli):\n",
        "          response_old[row][col] = binary_options[col][row]\n",
        "          response_new[row][col] = binary_options[col][row]\n",
        "  #   if i % 500 == 0 and i < 8000:\n",
        "  #     random_change = np.random.normal(scale=.1,size=(num_players,num_stimuli))\n",
        "  #     response = np.clip(response + random_change,a_min=epsilon,a_max = 1-epsilon)\n",
        "    if i % 2 == 0:\n",
        "      history[\"x\"].append(i)\n",
        "      val = get_mutual_information(response_old)\n",
        "      history[\"y\"].append(val/math.log(2))\n",
        "\n",
        "      val = get_mutual_information(response_new)\n",
        "      history[\"y2\"].append(val/math.log(2))\n",
        "\n",
        "  plt.ylim(0,min(math.log(num_stimuli)/math.log(2), num_players))\n",
        "  plt.plot(history[\"x\"],history[\"y\"], \"b\")\n",
        "  plt.plot(history[\"x\"],history[\"y2\"], \"g\")\n",
        "  file_name = 'images_play{}_stim{}_{}.jpg'.format(num_players,num_stimuli,k)\n",
        "  plt.savefig(file_name)\n",
        "\n",
        "  files.download(file_name)\n",
        "  plt.clf()\n",
        "\n",
        "\n"
      ],
      "execution_count": 9,
      "outputs": [
        {
          "output_type": "error",
          "ename": "KeyboardInterrupt",
          "evalue": "ignored",
          "traceback": [
            "\u001b[0;31m---------------------------------------------------------------------------\u001b[0m",
            "\u001b[0;31mKeyboardInterrupt\u001b[0m                         Traceback (most recent call last)",
            "\u001b[0;32m<ipython-input-9-21b5555ba12c>\u001b[0m in \u001b[0;36m<module>\u001b[0;34m()\u001b[0m\n\u001b[1;32m     49\u001b[0m   \u001b[0mplt\u001b[0m\u001b[0;34m.\u001b[0m\u001b[0msavefig\u001b[0m\u001b[0;34m(\u001b[0m\u001b[0mfile_name\u001b[0m\u001b[0;34m)\u001b[0m\u001b[0;34m\u001b[0m\u001b[0;34m\u001b[0m\u001b[0m\n\u001b[1;32m     50\u001b[0m \u001b[0;34m\u001b[0m\u001b[0m\n\u001b[0;32m---> 51\u001b[0;31m   \u001b[0mfiles\u001b[0m\u001b[0;34m.\u001b[0m\u001b[0mdownload\u001b[0m\u001b[0;34m(\u001b[0m\u001b[0mfile_name\u001b[0m\u001b[0;34m)\u001b[0m\u001b[0;34m\u001b[0m\u001b[0;34m\u001b[0m\u001b[0m\n\u001b[0m\u001b[1;32m     52\u001b[0m   \u001b[0mplt\u001b[0m\u001b[0;34m.\u001b[0m\u001b[0mclf\u001b[0m\u001b[0;34m(\u001b[0m\u001b[0;34m)\u001b[0m\u001b[0;34m\u001b[0m\u001b[0;34m\u001b[0m\u001b[0m\n\u001b[1;32m     53\u001b[0m \u001b[0;34m\u001b[0m\u001b[0m\n",
            "\u001b[0;32m/usr/local/lib/python3.6/dist-packages/google/colab/files.py\u001b[0m in \u001b[0;36mdownload\u001b[0;34m(filename)\u001b[0m\n\u001b[1;32m    176\u001b[0m       \u001b[0;34m'port'\u001b[0m\u001b[0;34m:\u001b[0m \u001b[0mport\u001b[0m\u001b[0;34m,\u001b[0m\u001b[0;34m\u001b[0m\u001b[0;34m\u001b[0m\u001b[0m\n\u001b[1;32m    177\u001b[0m       \u001b[0;34m'path'\u001b[0m\u001b[0;34m:\u001b[0m \u001b[0m_os\u001b[0m\u001b[0;34m.\u001b[0m\u001b[0mpath\u001b[0m\u001b[0;34m.\u001b[0m\u001b[0mabspath\u001b[0m\u001b[0;34m(\u001b[0m\u001b[0mfilename\u001b[0m\u001b[0;34m)\u001b[0m\u001b[0;34m,\u001b[0m\u001b[0;34m\u001b[0m\u001b[0;34m\u001b[0m\u001b[0m\n\u001b[0;32m--> 178\u001b[0;31m       \u001b[0;34m'name'\u001b[0m\u001b[0;34m:\u001b[0m \u001b[0m_os\u001b[0m\u001b[0;34m.\u001b[0m\u001b[0mpath\u001b[0m\u001b[0;34m.\u001b[0m\u001b[0mbasename\u001b[0m\u001b[0;34m(\u001b[0m\u001b[0mfilename\u001b[0m\u001b[0;34m)\u001b[0m\u001b[0;34m,\u001b[0m\u001b[0;34m\u001b[0m\u001b[0;34m\u001b[0m\u001b[0m\n\u001b[0m\u001b[1;32m    179\u001b[0m   })\n",
            "\u001b[0;32m/usr/local/lib/python3.6/dist-packages/google/colab/output/_js.py\u001b[0m in \u001b[0;36meval_js\u001b[0;34m(script, ignore_result)\u001b[0m\n\u001b[1;32m     37\u001b[0m   \u001b[0;32mif\u001b[0m \u001b[0mignore_result\u001b[0m\u001b[0;34m:\u001b[0m\u001b[0;34m\u001b[0m\u001b[0;34m\u001b[0m\u001b[0m\n\u001b[1;32m     38\u001b[0m     \u001b[0;32mreturn\u001b[0m\u001b[0;34m\u001b[0m\u001b[0;34m\u001b[0m\u001b[0m\n\u001b[0;32m---> 39\u001b[0;31m   \u001b[0;32mreturn\u001b[0m \u001b[0m_message\u001b[0m\u001b[0;34m.\u001b[0m\u001b[0mread_reply_from_input\u001b[0m\u001b[0;34m(\u001b[0m\u001b[0mrequest_id\u001b[0m\u001b[0;34m)\u001b[0m\u001b[0;34m\u001b[0m\u001b[0;34m\u001b[0m\u001b[0m\n\u001b[0m\u001b[1;32m     40\u001b[0m \u001b[0;34m\u001b[0m\u001b[0m\n\u001b[1;32m     41\u001b[0m \u001b[0;34m\u001b[0m\u001b[0m\n",
            "\u001b[0;32m/usr/local/lib/python3.6/dist-packages/google/colab/_message.py\u001b[0m in \u001b[0;36mread_reply_from_input\u001b[0;34m(message_id, timeout_sec)\u001b[0m\n\u001b[1;32m     99\u001b[0m     \u001b[0mreply\u001b[0m \u001b[0;34m=\u001b[0m \u001b[0m_read_next_input_message\u001b[0m\u001b[0;34m(\u001b[0m\u001b[0;34m)\u001b[0m\u001b[0;34m\u001b[0m\u001b[0;34m\u001b[0m\u001b[0m\n\u001b[1;32m    100\u001b[0m     \u001b[0;32mif\u001b[0m \u001b[0mreply\u001b[0m \u001b[0;34m==\u001b[0m \u001b[0m_NOT_READY\u001b[0m \u001b[0;32mor\u001b[0m \u001b[0;32mnot\u001b[0m \u001b[0misinstance\u001b[0m\u001b[0;34m(\u001b[0m\u001b[0mreply\u001b[0m\u001b[0;34m,\u001b[0m \u001b[0mdict\u001b[0m\u001b[0;34m)\u001b[0m\u001b[0;34m:\u001b[0m\u001b[0;34m\u001b[0m\u001b[0;34m\u001b[0m\u001b[0m\n\u001b[0;32m--> 101\u001b[0;31m       \u001b[0mtime\u001b[0m\u001b[0;34m.\u001b[0m\u001b[0msleep\u001b[0m\u001b[0;34m(\u001b[0m\u001b[0;36m0.025\u001b[0m\u001b[0;34m)\u001b[0m\u001b[0;34m\u001b[0m\u001b[0;34m\u001b[0m\u001b[0m\n\u001b[0m\u001b[1;32m    102\u001b[0m       \u001b[0;32mcontinue\u001b[0m\u001b[0;34m\u001b[0m\u001b[0;34m\u001b[0m\u001b[0m\n\u001b[1;32m    103\u001b[0m     if (reply.get('type') == 'colab_reply' and\n",
            "\u001b[0;31mKeyboardInterrupt\u001b[0m: "
          ]
        },
        {
          "output_type": "display_data",
          "data": {
            "image/png": "[encoded data removed]",
            "text/plain": [
              "<Figure size 432x288 with 1 Axes>"
            ]
          },
          "metadata": {
            "tags": []
          }
        }
      ]
    },
    {
      "cell_type": "code",
      "metadata": {
        "id": "Lc7zwc2aC8sY",
        "colab_type": "code",
        "colab": {}
      },
      "source": [
        "response_old = np.clip(response_old,.05,.95)\n",
        "show_graph(response_old)\n"
      ],
      "execution_count": 0,
      "outputs": []
    },
    {
      "cell_type": "code",
      "metadata": {
        "id": "0yhG-Q3Ylnw_",
        "colab_type": "code",
        "colab": {}
      },
      "source": [
        ""
      ],
      "execution_count": 0,
      "outputs": []
    },
    {
      "cell_type": "code",
      "metadata": {
        "id": "K9Qj82nJZMV7",
        "colab_type": "code",
        "colab": {}
      },
      "source": [
        ""
      ],
      "execution_count": 0,
      "outputs": []
    }
  ]
}