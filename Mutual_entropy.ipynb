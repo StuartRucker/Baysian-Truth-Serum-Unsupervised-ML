{
  "nbformat": 4,
  "nbformat_minor": 0,
  "metadata": {
    "colab": {
      "name": "Mutual_entropy.ipynb",
      "version": "0.3.2",
      "provenance": []
    },
    "kernelspec": {
      "name": "python3",
      "display_name": "Python 3"
    }
  },
  "cells": [
    {
      "cell_type": "markdown",
      "metadata": {
        "id": "3q4yPisu_f4o",
        "colab_type": "text"
      },
      "source": [
        "# Maximizing Mutual Entropy\n",
        "Tensorflow edition: Maximizing the mutual information between two sets of stimuli. This computationally method will provide a benchmark to compare against the more agile neurally inspired approach"
      ]
    },
    {
      "cell_type": "code",
      "metadata": {
        "id": "9yX6nxu6_lJe",
        "colab_type": "code",
        "outputId": "8cc6a2cb-dca0-4dd7-d701-79d7be86b70e",
        "colab": {
          "base_uri": "https://localhost:8080/",
          "height": 605
        }
      },
      "source": [
        "import tensorflow as tf\n",
        "import numpy as np\n",
        "import matplotlib.pyplot as plt\n",
        "import itertools\n",
        "import time\n",
        "import math\n",
        "\n",
        "num_players = 3\n",
        "num_stimuli = 8\n",
        "epsilon=.001\n",
        "iterations = 1500\n",
        "ANIMATION_LOGGING = False\n",
        "\n",
        "stimuli_probabilities = tf.Variable(tf.ones(shape=(num_stimuli))/num_stimuli, trainable=False)\n",
        "response = tf.Variable(tf.random.uniform(shape=(num_players,num_stimuli)))\n",
        "response = tf.clip_by_value(response,epsilon,1-epsilon)\n",
        "\n",
        "#Helper arrays used often but only needed to be computed once\n",
        "binary_options = tf.constant(list(itertools.product([0, 1], repeat=num_players)))\n",
        "num_options = binary_options.shape[0]\n",
        "player_indices = tf.range(num_players)\n",
        "all_indices = tf.range(num_stimuli*num_options)\n",
        "\n",
        "\n",
        "def mutual_information(stimuli_probabilities,response):\n",
        "  responses_both = [1-response,response]\n",
        "  \n",
        "  def Pr(op,si):\n",
        "    return tf.math.reduce_prod(tf.map_fn(lambda y: tf.gather(tf.gather(responses_both,tf.gather(binary_options,op)[y])[y],si), player_indices,dtype=tf.float32))\n",
        "\n",
        "  pxy = tf.reshape(tf.map_fn(lambda x: Pr(x%num_options,x//num_options)*stimuli_probabilities[x//num_options],all_indices,dtype=tf.float32), shape=(num_stimuli,num_options))\n",
        "  px = tf.reshape(tf.map_fn(lambda x: stimuli_probabilities[x//num_options],all_indices,dtype=tf.float32), shape=(num_stimuli,num_options))\n",
        "  py = tf.reshape(tf.tile(tf.reduce_sum(pxy, 0),[num_stimuli]), shape=(num_stimuli,num_options))\n",
        "  return tf.reduce_sum(pxy * tf.math.log(pxy/(px*py)))/math.log(2)\n",
        "   \n",
        "\n",
        "mutual_info = mutual_information(stimuli_probabilities,response) \n",
        "train_op = tf.train.AdamOptimizer(1e-3).minimize(-mutual_info)\n",
        "init_op = tf.initialize_all_variables()\n",
        "\n",
        "\n",
        "history_trial = []\n",
        "history_cost = []\n",
        "\n",
        "responses_checkpoint = []\n",
        "start = time.time()\n",
        "#run the graph\n",
        "with tf.Session() as sess:\n",
        "    sess.run(init_op)\n",
        "    for i in range(iterations):\n",
        "      _,cost = sess.run([train_op,mutual_info])\n",
        "      history_trial.append(i)\n",
        "      history_cost.append(cost)\n",
        "      \n",
        "      \n",
        "      if i % 3 == 0 and ANIMATION_LOGGING:\n",
        "        responses_checkpoint.append(sess.run(response))\n",
        "      elif i == iterations-1:\n",
        "        responses_checkpoint.append(sess.run(response))\n",
        "print(\"estimated time: {}\".format(.4*(2**num_players)*num_stimuli))\n",
        "print(\"took {} seconds\".format(time.time()-start))\n",
        "plt.plot(history_trial, history_cost)\n",
        "plt.show()\n"
      ],
      "execution_count": 0,
      "outputs": [
        {
          "output_type": "stream",
          "text": [
            "WARNING:tensorflow:From /usr/local/lib/python3.6/dist-packages/tensorflow/python/framework/op_def_library.py:263: colocate_with (from tensorflow.python.framework.ops) is deprecated and will be removed in a future version.\n",
            "Instructions for updating:\n",
            "Colocations handled automatically by placer.\n",
            "WARNING:tensorflow:From /usr/local/lib/python3.6/dist-packages/tensorflow/python/ops/math_ops.py:3066: to_int32 (from tensorflow.python.ops.math_ops) is deprecated and will be removed in a future version.\n",
            "Instructions for updating:\n",
            "Use tf.cast instead.\n",
            "WARNING:tensorflow:From /usr/local/lib/python3.6/dist-packages/tensorflow/python/ops/math_grad.py:163: setdiff1d (from tensorflow.python.ops.array_ops) is deprecated and will be removed after 2018-11-30.\n",
            "Instructions for updating:\n",
            "This op will be removed after the deprecation date. Please switch to tf.sets.difference().\n",
            "WARNING:tensorflow:From /usr/local/lib/python3.6/dist-packages/tensorflow/python/util/tf_should_use.py:193: initialize_all_variables (from tensorflow.python.ops.variables) is deprecated and will be removed after 2017-03-02.\n",
            "Instructions for updating:\n",
            "Use `tf.global_variables_initializer` instead.\n",
            "estimated time: 25.6\n",
            "took 29.33323645591736 seconds\n"
          ],
          "name": "stdout"
        },
        {
          "output_type": "display_data",
          "data": {
            "image/png": "[encoded data removed]",
            "text/plain": [
              "<Figure size 576x396 with 1 Axes>"
            ]
          },
          "metadata": {
            "tags": []
          }
        }
      ]
    },
    {
      "cell_type": "markdown",
      "metadata": {
        "id": "YFLv6NDkAavF",
        "colab_type": "text"
      },
      "source": [
        "# Animation of graphs\n",
        "\n",
        "Create a movie depicting the weights between input and output stimuli changing during the gradient descent"
      ]
    },
    {
      "cell_type": "code",
      "metadata": {
        "id": "lQ2aFOJw5SR3",
        "colab_type": "code",
        "cellView": "both",
        "colab": {}
      },
      "source": [
        "import numpy as np\n",
        "from matplotlib import pyplot as plt\n",
        "from matplotlib import animation, rc\n",
        "from IPython.display import HTML\n",
        "\n",
        "responses_checkpoint_flat = []\n",
        "for i in range(len(responses_checkpoint)):\n",
        "  \n",
        "  response = np.clip(responses_checkpoint[i],.05,.95)\n",
        "  response = np.vstack([response, np.zeros(num_stimuli)]).T\n",
        "  responses_checkpoint_flat.append(response.flatten())\n",
        "\n",
        "colors_empty = [\"r\",\"g\",\"b\",\"m\",\"k\",\"c\",\"k\",\"c\"][:(num_players+1)]\n",
        "colors = np.tile(colors_empty,num_stimuli)\n",
        "\n"
      ],
      "execution_count": 0,
      "outputs": []
    },
    {
      "cell_type": "code",
      "metadata": {
        "id": "67bxCppS2LBT",
        "colab_type": "code",
        "outputId": "e84c0798-c1cd-4cbd-db53-579cd8480939",
        "colab": {
          "base_uri": "https://localhost:8080/",
          "height": 351
        }
      },
      "source": [
        "fig=plt.figure()\n",
        "\n",
        "\n",
        "spacing = np.arange(len(responses_checkpoint_flat[0]))\n",
        "barcollection = plt.bar(spacing, responses_checkpoint_flat[0], color=colors)\n",
        "\n",
        "plt.ylim(0,1)\n",
        "def animate(frame):\n",
        "    for i, b in enumerate(barcollection):\n",
        "        b.set_height(responses_checkpoint_flat[frame][i])\n",
        "\n",
        "# anim=animation.FuncAnimation(fig,animate,repeat=False,blit=False,frames=450,\n",
        "#                              interval=30)\n",
        "\n",
        "\n",
        "\n",
        "# save the animation as an mp4.  This requires ffmpeg or mencoder to be\n",
        "# installed.  The extra_args ensure that the x264 codec is used, so that\n",
        "# the video can be embedded in html5.  You may need to adjust this for\n",
        "# your system: for more information, see\n",
        "# http://matplotlib.sourceforge.net/api/animation_api.html\n",
        "# rc('animation', html='jshtml')\n",
        "# anim\n",
        "\n",
        "\n"
      ],
      "execution_count": 0,
      "outputs": [
        {
          "output_type": "display_data",
          "data": {
            "image/png": "[encoded data removed]",
            "text/plain": [
              "<Figure size 576x396 with 1 Axes>"
            ]
          },
          "metadata": {
            "tags": []
          }
        }
      ]
    },
    {
      "cell_type": "code",
      "metadata": {
        "id": "xFdGLEBSA_kp",
        "colab_type": "code",
        "outputId": "89a8d7d2-83c9-4921-ee25-1515d28180db",
        "colab": {
          "base_uri": "https://localhost:8080/",
          "height": 198
        }
      },
      "source": [
        "from google.colab import files\n",
        "anim.save(\"abc.mov\")\n",
        "files.download(\"abc.mov\") "
      ],
      "execution_count": 0,
      "outputs": [
        {
          "output_type": "error",
          "ename": "NameError",
          "evalue": "ignored",
          "traceback": [
            "\u001b[0;31m---------------------------------------------------------------------------\u001b[0m",
            "\u001b[0;31mNameError\u001b[0m                                 Traceback (most recent call last)",
            "\u001b[0;32m<ipython-input-4-169a02800eaa>\u001b[0m in \u001b[0;36m<module>\u001b[0;34m()\u001b[0m\n\u001b[1;32m      1\u001b[0m \u001b[0;32mfrom\u001b[0m \u001b[0mgoogle\u001b[0m\u001b[0;34m.\u001b[0m\u001b[0mcolab\u001b[0m \u001b[0;32mimport\u001b[0m \u001b[0mfiles\u001b[0m\u001b[0;34m\u001b[0m\u001b[0;34m\u001b[0m\u001b[0m\n\u001b[0;32m----> 2\u001b[0;31m \u001b[0manim\u001b[0m\u001b[0;34m.\u001b[0m\u001b[0msave\u001b[0m\u001b[0;34m(\u001b[0m\u001b[0;34m\"abc.mov\"\u001b[0m\u001b[0;34m)\u001b[0m\u001b[0;34m\u001b[0m\u001b[0;34m\u001b[0m\u001b[0m\n\u001b[0m\u001b[1;32m      3\u001b[0m \u001b[0mfiles\u001b[0m\u001b[0;34m.\u001b[0m\u001b[0mdownload\u001b[0m\u001b[0;34m(\u001b[0m\u001b[0;34m\"abc.mov\"\u001b[0m\u001b[0;34m)\u001b[0m\u001b[0;34m\u001b[0m\u001b[0;34m\u001b[0m\u001b[0m\n",
            "\u001b[0;31mNameError\u001b[0m: name 'anim' is not defined"
          ]
        }
      ]
    },
    {
      "cell_type": "code",
      "metadata": {
        "id": "ftNvmXAWmxKH",
        "colab_type": "code",
        "colab": {}
      },
      "source": [
        ""
      ],
      "execution_count": 0,
      "outputs": []
    }
  ]
}