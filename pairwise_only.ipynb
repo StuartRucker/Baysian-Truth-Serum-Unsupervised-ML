{
  "nbformat": 4,
  "nbformat_minor": 0,
  "metadata": {
    "colab": {
      "name": "pairwise_only.ipynb",
      "version": "0.3.2",
      "provenance": [],
      "collapsed_sections": []
    },
    "kernelspec": {
      "name": "python3",
      "display_name": "Python 3"
    }
  },
  "cells": [
    {
      "cell_type": "code",
      "metadata": {
        "id": "32rKCHHePVBp",
        "colab_type": "code",
        "colab": {}
      },
      "source": [
        "import numpy as np\n",
        "import math\n",
        "import matplotlib.pyplot as plt\n",
        "import itertools"
      ],
      "execution_count": 0,
      "outputs": []
    },
    {
      "cell_type": "code",
      "metadata": {
        "id": "lARupEohPf_r",
        "colab_type": "code",
        "colab": {}
      },
      "source": [
        "num_players = 3\n",
        "num_stimuli = 8\n",
        "\n",
        "\n",
        "num_iterations = 80\n",
        "epsilon = .001\n",
        "inhibition = .05\n",
        "delta = .001\n",
        "beta = .15\n",
        "MU = .2\n",
        "\n",
        "log2 = lambda x: math.log(x)/math.log(2)\n",
        "# response[a][b] is the probability neuron a (where a=0 means x) outputs 1\n",
        "# when the b stimulus happens (32 values)\n",
        "\n"
      ],
      "execution_count": 0,
      "outputs": []
    },
    {
      "cell_type": "code",
      "metadata": {
        "id": "lyDntjPhRY-O",
        "colab_type": "code",
        "colab": {}
      },
      "source": [
        "#conditional_probability[j][k][x][y] is P(node x = j | node y = k)\n",
        "def generate_conditional_probabilities():\n",
        "  #j = 1, k = 1\n",
        "  result11 = np.matmul(stimuli_probability*response, response.T) /(np.dot(response,stimuli_probability))\n",
        "    #j = 1, k = 0\n",
        "  result10 = np.matmul(stimuli_probability*response, (1-response.T)) /(np.dot(1-response,stimuli_probability))\n",
        "  result01 = np.matmul(stimuli_probability*(1-response), response.T) /(np.dot(response,stimuli_probability))\n",
        "  result00 = np.matmul(stimuli_probability*(1-response), (1-response.T))/(np.dot(1-response,stimuli_probability))\n",
        "  \n",
        "  conditional_probability =  np.array([[result00,result01],[ result10,result11]])\n",
        "\n",
        "\n",
        "  return conditional_probability"
      ],
      "execution_count": 0,
      "outputs": []
    },
    {
      "cell_type": "code",
      "metadata": {
        "id": "Gz7rT57VvzAC",
        "colab_type": "code",
        "colab": {}
      },
      "source": [
        "#returns updated \"response\" matrix\n",
        "def update_response(EV, jitter):\n",
        "  new_responses = np.zeros(shape = ((num_players,num_stimuli)))\n",
        "  \n",
        "  for node in range(num_players):\n",
        "    for stimuli in range(num_stimuli):\n",
        "\n",
        "      numerator = response[node][stimuli]*math.exp(beta*(EV[node][stimuli][1]-EV[node][stimuli][0]))\n",
        "      denominator = 1-response[node][stimuli] + response[node][stimuli]*math.exp(beta*(EV[node][stimuli][1]-EV[node][stimuli][0]))\n",
        "      term = jitter + numerator/denominator\n",
        "      \n",
        "      new_responses[node][stimuli] = max(epsilon,min(1-epsilon,term))\n",
        "\n",
        "  return new_responses\n"
      ],
      "execution_count": 0,
      "outputs": []
    },
    {
      "cell_type": "code",
      "metadata": {
        "id": "hTwAkvUonTAo",
        "colab_type": "code",
        "colab": {}
      },
      "source": [
        "def get_mutual_information():\n",
        "\n",
        "\n",
        "  binary_options = list(itertools.product([0, 1], repeat=num_players))\n",
        "  responses_both = [response,1-response]\n",
        "  \n",
        "  total_sum = 0\n",
        "  for stimuli in range(num_stimuli):\n",
        "    for options in binary_options:\n",
        "      Pxy = Pr(responses_both, options, stimuli)*stimuli_probability[stimuli]\n",
        "      Px = stimuli_probability[stimuli]\n",
        "      Py = 0\n",
        "      for stimuli_inner in range(num_stimuli):\n",
        "        Py += stimuli_probability[stimuli_inner]*Pr(responses_both, options, stimuli_inner)\n",
        "      total_sum += Pxy*math.log(Pxy/(Px*Py))\n",
        "  return total_sum\n",
        "\n",
        "#example: probability that the 4 nodes output [0,1,0,1] given the stimuli of index \"stimuli=6\"\n",
        "def Pr(responses_both, options, stimuli):\n",
        "  sums = 1\n",
        "  for player in range(num_players):\n",
        "    sums *= responses_both[options[player]][player][stimuli]\n",
        "  return sums\n",
        "# get_mutual_information()"
      ],
      "execution_count": 0,
      "outputs": []
    },
    {
      "cell_type": "markdown",
      "metadata": {
        "id": "wzefFKJn225K",
        "colab_type": "text"
      },
      "source": [
        "## display bar graph of responses"
      ]
    },
    {
      "cell_type": "code",
      "metadata": {
        "id": "SQFImxXXwwx2",
        "colab_type": "code",
        "cellView": "both",
        "colab": {}
      },
      "source": [
        "#@title\n",
        "def show_graph():\n",
        "\n",
        "\n",
        "  # data to plot\n",
        "\n",
        "  \n",
        "\n",
        "  # create plot\n",
        "  fig, ax = plt.subplots()\n",
        "  index = np.arange(num_stimuli)\n",
        "  bar_width = 0.1\n",
        "  opacity = 0.8\n",
        "  \n",
        "  colors = ['r','g','b','c','m','k','r','g','b','c','m','k']\n",
        "  for i in range(len(response)):\n",
        "    rects0 = plt.bar(index+bar_width*i, response[i], bar_width,\n",
        "                     color=colors[i],\n",
        "                     label='player {}'.format(i))\n",
        "\n",
        "\n",
        "  plt.xlabel('Stimuli')\n",
        "  plt.ylabel('Responsiveness')\n",
        "  plt.ylim(0,1)\n",
        "  plt.title('Responsiveness to stimuli by node')\n",
        "  plt.xticks(index + bar_width, ('Stim 1', '2', '3', '4','5','6','7','8'))\n",
        "  plt.legend()\n",
        " \n",
        "\n",
        "  \n",
        "  plt.show()"
      ],
      "execution_count": 0,
      "outputs": []
    },
    {
      "cell_type": "code",
      "metadata": {
        "id": "SVrglFEjCWev",
        "colab_type": "code",
        "colab": {}
      },
      "source": [
        "# EV_values[x][b][c] is EV(Node x = c | S_b) \n",
        "def generate_BTS(conditional_probabilities):\n",
        "  EV_values = np.zeros(shape = (num_players,num_stimuli,2))\n",
        "  responses_both = [1-response,response]\n",
        "  for node in range(num_players):\n",
        "    for stimuli in range(num_stimuli):\n",
        "      for output in range(2):\n",
        "        EV = log2(responses_both[output][node][stimuli])\n",
        "        EV -= np.dot(responses_both[output][node],stimuli_probability) #Pr(x=1)\n",
        "        \n",
        "        for node2 in range(num_players):\n",
        "          if node2 == node:\n",
        "            continue\n",
        "          for output2 in range(2):\n",
        "            EV+= 1/3*responses_both[output2][node2][stimuli]*log2(np.dot(responses_both[output2][node2],stimuli_probability))\n",
        "        EV_values[node][stimuli][output] = EV\n",
        "           \n",
        "  return EV_values\n",
        "\n",
        "# EV_values[x][b][c] is EV(Node x = c | S_b) \n",
        "def generate_BTS2(conditional_probabilities):\n",
        "  EV_values = np.zeros(shape = (num_players,num_stimuli,2))\n",
        "  responses_both = [1-response, response]\n",
        "  for node in range(num_players):\n",
        "    for stimuli in range(num_stimuli):\n",
        "      for output in range(2):\n",
        "        EV = log2(responses_both[output][node][stimuli])\n",
        "        \n",
        "        for node2 in range(num_players):\n",
        "          if node2 == node:\n",
        "            continue\n",
        "          for output2 in range(2):\n",
        "#             print()\n",
        "#             print(conditional_probabilities[output2][output][node2][node]/conditional_probabilities[output][output2][node][node2])\n",
        "#             print(np.dot(stimuli_probability,responses_both[output2][node2])/np.dot(stimuli_probability,responses_both[output][node]))\n",
        "            EV+= 1/(num_players-1)*responses_both[output2][node2][stimuli]*log2(conditional_probabilities[output2][output][node2][node]/conditional_probabilities[output][output2][node][node2])\n",
        "        EV_values[node][stimuli][output] = EV\n",
        "           \n",
        "  return EV_values"
      ],
      "execution_count": 0,
      "outputs": []
    },
    {
      "cell_type": "code",
      "metadata": {
        "id": "7KCOsSekWVt9",
        "colab_type": "code",
        "outputId": "e64bc267-6059-4727-be7a-b13c5ef0a8df",
        "colab": {
          "base_uri": "https://localhost:8080/",
          "height": 119
        }
      },
      "source": [
        "for nodecount in range(2,8):\n",
        "  num_players = nodecount\n",
        "  loging = []\n",
        "  for k in range(30):\n",
        "    response = np.random.uniform(size=(num_players,num_stimuli))\n",
        "    # response = np.repeat(np.random.uniform(size=(num_players,1)),num_stimuli, axis=1)\n",
        "\n",
        "    def softmax(x):\n",
        "        \"\"\"Compute softmax values for each sets of scores in x.\"\"\"\n",
        "        e_x = np.exp(x - np.max(x))\n",
        "        return e_x / e_x.sum()\n",
        "    stimuli_probability = softmax(np.random.uniform(size=num_stimuli))\n",
        "#     stimuli_probability = np.ones(num_stimuli)/num_stimuli\n",
        "\n",
        "    history = {\"x\":[],\"y\":[],\"y2\":[]}\n",
        "    for i in range(0,num_iterations):\n",
        "\n",
        "      conditional_probabilities = generate_conditional_probabilities()\n",
        "    #   EV = generate_BTS(conditional_probabilities)\n",
        "      EV = generate_BTS2(conditional_probabilities)\n",
        "      \n",
        "\n",
        "      response = update_response(EV,np.random.uniform(low=-delta,high=delta))\n",
        "#       if i % 2 == 0:\n",
        "#         history[\"x\"].append(i)\n",
        "#         val = get_mutual_information()\n",
        "#         history[\"y\"].append(val/math.log(2))\n",
        "    \n",
        "\n",
        "#     plt.ylim(0,min(math.log(num_stimuli)/math.log(2), num_players))\n",
        "#     plt.plot(history[\"x\"],history[\"y\"], \"b\")\n",
        "#     plt.show()\n",
        "    loging.append(get_mutual_information()/math.log(2))\n",
        "  print(np.mean(loging))\n",
        "      \n",
        "\n",
        "\n",
        "\n"
      ],
      "execution_count": 0,
      "outputs": [
        {
          "output_type": "stream",
          "text": [
            "1.7889164101942236\n",
            "2.3822787327316197\n",
            "2.6571712121038664\n",
            "2.804461687987238\n",
            "2.8997628703064895\n",
            "2.930593924162534\n"
          ],
          "name": "stdout"
        }
      ]
    },
    {
      "cell_type": "code",
      "metadata": {
        "id": "Lc7zwc2aC8sY",
        "colab_type": "code",
        "outputId": "c879cd50-13df-4bdb-94fa-d6f8309628ed",
        "colab": {
          "base_uri": "https://localhost:8080/",
          "height": 376
        }
      },
      "source": [
        "response = np.clip(response,.05,.95)\n",
        "show_graph()\n"
      ],
      "execution_count": 0,
      "outputs": [
        {
          "output_type": "display_data",
          "data": {
            "image/png": "[encoded data removed]",
            "text/plain": [
              "<Figure size 576x396 with 1 Axes>"
            ]
          },
          "metadata": {
            "tags": []
          }
        }
      ]
    },
    {
      "cell_type": "code",
      "metadata": {
        "id": "wHK2cB9uehJI",
        "colab_type": "code",
        "outputId": "e0f7f305-1ac1-44db-e103-6f857ddbb4a2",
        "colab": {
          "base_uri": "https://localhost:8080/",
          "height": 51
        }
      },
      "source": [
        "stimuli = 1\n",
        "# print(response)\n",
        "print(response[:,stimuli])\n",
        "print(np.append(response[:1,stimuli],response[2:,stimuli]))"
      ],
      "execution_count": 0,
      "outputs": [
        {
          "output_type": "stream",
          "text": [
            "[0.05 0.95 0.95]\n",
            "[0.05 0.95]\n"
          ],
          "name": "stdout"
        }
      ]
    },
    {
      "cell_type": "code",
      "metadata": {
        "id": "0yhG-Q3Ylnw_",
        "colab_type": "code",
        "colab": {}
      },
      "source": [
        ""
      ],
      "execution_count": 0,
      "outputs": []
    }
  ]
}