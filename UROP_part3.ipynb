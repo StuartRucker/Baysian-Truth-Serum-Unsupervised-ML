{
  "nbformat": 4,
  "nbformat_minor": 0,
  "metadata": {
    "colab": {
      "name": "UROP_part3.ipynb",
      "version": "0.3.2",
      "provenance": [],
      "collapsed_sections": []
    },
    "kernelspec": {
      "name": "python3",
      "display_name": "Python 3"
    }
  },
  "cells": [
    {
      "cell_type": "code",
      "metadata": {
        "id": "32rKCHHePVBp",
        "colab_type": "code",
        "colab": {}
      },
      "source": [
        "import numpy as np\n",
        "import math\n",
        "import matplotlib.pyplot as plt\n",
        "import itertools\n",
        "from google.colab import files"
      ],
      "execution_count": 0,
      "outputs": []
    },
    {
      "cell_type": "code",
      "metadata": {
        "id": "lARupEohPf_r",
        "colab_type": "code",
        "colab": {}
      },
      "source": [
        "num_players = 2\n",
        "num_stimuli = 4\n",
        "\n",
        "\n",
        "\n",
        "num_iterations = 1500\n",
        "epsilon = .001\n",
        "inhibition = .333\n",
        "delta = .001\n",
        "beta = .5\n",
        "\n",
        "# response[a][b] is the probability neuron a (where a=0 means x) outputs 1\n",
        "# when the b stimulus happens (32 values)\n",
        "\n"
      ],
      "execution_count": 0,
      "outputs": []
    },
    {
      "cell_type": "code",
      "metadata": {
        "id": "lyDntjPhRY-O",
        "colab_type": "code",
        "colab": {}
      },
      "source": [
        "#conditional_probability[j][k][x][y] is P(node x = j | node y = k)\n",
        "def generate_conditional_probabilities_new(response):\n",
        "  expected_values_1 = stimuli_probability*response\n",
        "  expected_values_0 = stimuli_probability*(1-response)\n",
        "  expected_values_by_node_1 = np.sum(expected_values_1,axis=1)\n",
        "  expected_values_by_node_0 = np.sum(expected_values_0,axis=1)\n",
        "  average_by_stimuli_1 = np.average(response,axis=0)\n",
        "  average_by_stimuli_0 = np.average(1-response,axis=0)\n",
        "\n",
        "\n",
        "  result11 = np.reshape(np.tile(np.sum((expected_values_1.T / expected_values_by_node_1).T * average_by_stimuli_1,axis=1),num_players),(num_players,num_players))\n",
        "#   print(result11)\n",
        "  result10 = np.reshape(np.tile(np.sum((expected_values_0.T / expected_values_by_node_0).T * average_by_stimuli_1,axis=1),num_players),(num_players,num_players))\n",
        "  result01 = np.reshape(np.tile(np.sum((expected_values_1.T / expected_values_by_node_1).T * average_by_stimuli_0,axis=1),num_players),(num_players,num_players))\n",
        "  result00 = np.reshape(np.tile(np.sum((expected_values_0.T / expected_values_by_node_0).T * average_by_stimuli_0,axis=1),num_players),(num_players,num_players))\n",
        "#   result11 = np.matmul(stimuli_probability*response, response.T) /(np.dot(response,stimuli_probability))\n",
        "#     #j = 1, k = 0\n",
        "#   result10 = np.matmul(stimuli_probability*response, (1-response.T)) /(np.dot(1-response,stimuli_probability))\n",
        "#   result01 = np.matmul(stimuli_probability*(1-response), response.T) /(np.dot(response,stimuli_probability))\n",
        "#   result00 = np.matmul(stimuli_probability*(1-response), (1-response.T))/(np.dot(1-response,stimuli_probability))\n",
        "  \n",
        "  conditional_probability =  np.array([[result00,result01],[ result10,result11]])\n",
        "  return conditional_probability\n",
        "# print(response)\n",
        "# print()\n",
        "# print(stimuli_probability)\n",
        "# print()\n",
        "\n",
        "\n",
        "def conditional_tester(x,j,y,k):\n",
        "  sumj = 0\n",
        "  for j in range(num_stimuli):\n",
        "    sumj_term = (1-(response[0][j]+response[1][j]+response[2][j]+response[3][j])/4) * (1-response[y][j])*stimuli_probability[j]\n",
        "    \n",
        "    suml = 0\n",
        "    for l in range(num_stimuli):\n",
        "      suml += (1-response[y][l])*stimuli_probability[l]\n",
        "    sumj_term /= suml\n",
        "    sumj += sumj_term\n",
        "  return sumj\n",
        "#conditional_probability[j][k][x][y] is P(node x = j | node y = k)\n",
        "def generate_conditional_probabilities_old(response):\n",
        "  #j = 1, k = 1\n",
        "  result11 = np.matmul(stimuli_probability*response, response.T) /(np.dot(response,stimuli_probability))\n",
        "    #j = 1, k = 0\n",
        "  result10 = np.matmul(stimuli_probability*response, (1-response.T)) /(np.dot(1-response,stimuli_probability))\n",
        "  result01 = np.matmul(stimuli_probability*(1-response), response.T) /(np.dot(response,stimuli_probability))\n",
        "  result00 = np.matmul(stimuli_probability*(1-response), (1-response.T))/(np.dot(1-response,stimuli_probability))\n",
        "  \n",
        "  conditional_probability =  np.array([[result00,result01],[ result10,result11]])\n",
        "\n",
        "\n",
        "  return conditional_probability"
      ],
      "execution_count": 0,
      "outputs": []
    },
    {
      "cell_type": "markdown",
      "metadata": {
        "id": "0-fhMw_wvJe2",
        "colab_type": "text"
      },
      "source": [
        "![alt text](https://imgur.com/JugyNds.jpg)"
      ]
    },
    {
      "cell_type": "code",
      "metadata": {
        "id": "wEYS20LPOO5z",
        "colab_type": "code",
        "colab": {}
      },
      "source": [
        "# EV_values[x][b][c] is EV(Node x = c | S_b) \n",
        "def generate_BTS(conditional_probabilities,response):\n",
        "  EV_values = np.zeros(shape = (num_players,num_stimuli,2))\n",
        "  for node in range(num_players):\n",
        "    for stimuli in range(num_stimuli):\n",
        "\n",
        "      for output in range(2):\n",
        "        EV = 0\n",
        "        if output == 1:\n",
        "          EV = inhibition*math.log(np.average(response[:,stimuli]))\n",
        "        else:\n",
        "          EV = inhibition*math.log(1-np.average(response[:,stimuli]))\n",
        " \n",
        "        for node1 in range(num_players):\n",
        "          if node == node1:\n",
        "            continue\n",
        "          EV = EV - (1-response[node1][stimuli])*math.log(conditional_probabilities[output][0][node][node1]) \\\n",
        "           -response[node1][stimuli]*math.log(conditional_probabilities[output][1][node][node1])\n",
        "\n",
        "        EV_values[node][stimuli][output] = EV\n",
        "\n",
        "  return EV_values"
      ],
      "execution_count": 0,
      "outputs": []
    },
    {
      "cell_type": "markdown",
      "metadata": {
        "id": "PxsFkT4LvrAN",
        "colab_type": "text"
      },
      "source": [
        "![alt text](https://imgur.com/Wz4IFuh.jpg)"
      ]
    },
    {
      "cell_type": "code",
      "metadata": {
        "id": "Gz7rT57VvzAC",
        "colab_type": "code",
        "colab": {}
      },
      "source": [
        "#returns updated \"response\" matrix\n",
        "def update_response(EV, jitter,response):\n",
        "  new_responses = np.zeros(shape = ((num_players,num_stimuli)))\n",
        "  \n",
        "  for node in range(num_players):\n",
        "    for stimuli in range(num_stimuli):\n",
        "\n",
        "      numerator = response[node][stimuli]*math.exp(beta*(EV[node][stimuli][1]-EV[node][stimuli][0]))\n",
        "      denominator = 1-response[node][stimuli] + response[node][stimuli]*math.exp(beta*(EV[node][stimuli][1]-EV[node][stimuli][0]))\n",
        "      term = jitter + numerator/denominator\n",
        "      \n",
        "      new_responses[node][stimuli] = max(epsilon,min(1-epsilon,term))\n",
        "\n",
        "  return new_responses\n"
      ],
      "execution_count": 0,
      "outputs": []
    },
    {
      "cell_type": "markdown",
      "metadata": {
        "id": "ed-qlLNF2ezq",
        "colab_type": "text"
      },
      "source": [
        "![alt text](https://imgur.com/MMXg7VA.jpg)"
      ]
    },
    {
      "cell_type": "code",
      "metadata": {
        "id": "hTwAkvUonTAo",
        "colab_type": "code",
        "colab": {}
      },
      "source": [
        "def get_mutual_information(response):\n",
        "\n",
        "\n",
        "  binary_options = list(itertools.product([0, 1], repeat=num_players))\n",
        "  responses_both = [response,1-response]\n",
        "  \n",
        "  total_sum = 0\n",
        "  for stimuli in range(num_stimuli):\n",
        "    for options in binary_options:\n",
        "      Pxy = Pr(responses_both, options, stimuli)*stimuli_probability[stimuli]\n",
        "      Px = stimuli_probability[stimuli]\n",
        "      Py = 0\n",
        "      for stimuli_inner in range(num_stimuli):\n",
        "        Py += stimuli_probability[stimuli_inner]*Pr(responses_both, options, stimuli_inner)\n",
        "      total_sum += Pxy*math.log(Pxy/(Px*Py))\n",
        "  return total_sum\n",
        "\n",
        "#example: probability that the 4 nodes output [0,1,0,1] given the stimuli of index \"stimuli=6\"\n",
        "def Pr(responses_both, options, stimuli):\n",
        "  sums = 1\n",
        "  for player in range(num_players):\n",
        "    sums *= responses_both[options[player]][player][stimuli]\n",
        "  return sums\n",
        "# get_mutual_information()"
      ],
      "execution_count": 0,
      "outputs": []
    },
    {
      "cell_type": "code",
      "metadata": {
        "id": "wLxtuQnj2QVZ",
        "colab_type": "code",
        "cellView": "both",
        "colab": {}
      },
      "source": [
        "#@title\n",
        "#====NOT USED=====\n",
        "#yields same result as code above, but computation follows more closely to the directions\n",
        "def get_mutual_information_old():\n",
        "  total_sum = 0\n",
        "\n",
        "  binary_options = list(itertools.product([0, 1], repeat=num_players))\n",
        "  responses_both = [response,1-response]\n",
        "  \n",
        "  sums = 0\n",
        "  for stimuli in range(num_stimuli):\n",
        "    inner_sum = 0\n",
        "    for option in binary_options:\n",
        "      pr_value = Pr(responses_both,option,stimuli)\n",
        "#       print(pr_value*math.log(pr_value))\n",
        "      inner_sum += pr_value*math.log(pr_value)\n",
        "#     print(inner_sum)\n",
        "    sums += inner_sum*stimuli_probability[stimuli]\n",
        "  \n",
        "  sums1 = 0\n",
        "  for option in binary_options:\n",
        "    inner_sum = 0\n",
        "    for stimuli in range(num_stimuli):\n",
        "      inner_sum += Pr(responses_both,option,stimuli)*stimuli_probability[stimuli]\n",
        "    sums1 -= inner_sum * math.log(inner_sum)\n",
        "  return sums1+sums\n",
        "      \n",
        "def Pr(responses_both, options, stimuli):\n",
        "  sums = 1\n",
        "  for player in range(num_players):\n",
        "    sums *= responses_both[options[player]][player][stimuli]\n",
        "  return sums"
      ],
      "execution_count": 0,
      "outputs": []
    },
    {
      "cell_type": "markdown",
      "metadata": {
        "id": "wzefFKJn225K",
        "colab_type": "text"
      },
      "source": [
        "## display bar graph of responses"
      ]
    },
    {
      "cell_type": "code",
      "metadata": {
        "id": "SQFImxXXwwx2",
        "colab_type": "code",
        "cellView": "both",
        "colab": {}
      },
      "source": [
        "#@title\n",
        "def show_graph(response):\n",
        "\n",
        "\n",
        "  # data to plot\n",
        "\n",
        "  \n",
        "\n",
        "  # create plot\n",
        "  fig, ax = plt.subplots()\n",
        "  index = np.arange(num_stimuli)\n",
        "  bar_width = 0.1\n",
        "  opacity = 0.8\n",
        "  \n",
        "  colors = ['r','g','b','c','m','k']\n",
        "  for i in range(len(response)):\n",
        "    rects0 = plt.bar(index+bar_width*i, response[i], bar_width,\n",
        "                     color=colors[i],\n",
        "                     label='player {}'.format(i))\n",
        "\n",
        "\n",
        "  plt.xlabel('Stimuli')\n",
        "  plt.ylabel('Responsiveness')\n",
        "  plt.ylim(0,1)\n",
        "  plt.title('Responsiveness to stimuli by node')\n",
        "  plt.xticks(index + bar_width, ('Stim 1', '2', '3', '4','5','6','7','8'))\n",
        "  plt.legend()\n",
        "\n",
        "  \n",
        "  plt.show()"
      ],
      "execution_count": 0,
      "outputs": []
    },
    {
      "cell_type": "code",
      "metadata": {
        "id": "7KCOsSekWVt9",
        "colab_type": "code",
        "outputId": "d2bfecaf-7dfd-40d1-ec0e-eea3aabe0090",
        "colab": {
          "base_uri": "https://localhost:8080/",
          "height": 368
        }
      },
      "source": [
        "\n",
        "for k in range(10):\n",
        "\n",
        "  history = {\"x\":[],\"y\":[],\"y2\":[]}\n",
        "\n",
        "  response_old = np.random.uniform(size=(num_players,num_stimuli))\n",
        "  response_new = np.copy(response_old)\n",
        "\n",
        "  # response = np.repeat(np.random.uniform(size=(num_players,1)),num_stimuli, axis=1)\n",
        "\n",
        "  def softmax(x):\n",
        "      \"\"\"Compute softmax values for each sets of scores in x.\"\"\"\n",
        "      e_x = np.exp(x - np.max(x))\n",
        "      return e_x / e_x.sum()\n",
        "  # stimuli_probability = softmax(np.random.uniform(size=num_stimuli))\n",
        "  stimuli_probability = np.ones(num_stimuli)/num_stimuli\n",
        "  for i in range(0,num_iterations):\n",
        "\n",
        "    conditional_probabilities_old = generate_conditional_probabilities_old(response_old)\n",
        "    conditional_probabilities_new = generate_conditional_probabilities_new(response_new)\n",
        "\n",
        "\n",
        "    EV_old = generate_BTS(conditional_probabilities_old,response_old)\n",
        "    EV_new = generate_BTS(conditional_probabilities_new,response_new)\n",
        "\n",
        "    response_old = update_response(EV_old,np.random.uniform(low=-delta,high=delta),response_old)\n",
        "    response_new = update_response(EV_new,np.random.uniform(low=-delta,high=delta),response_new)\n",
        "    if i == 1000:\n",
        "      binary_options = list(itertools.product([epsilon, 1-epsilon], repeat=num_players))\n",
        "      for row in range(num_players):\n",
        "        for col in range(num_stimuli):\n",
        "          response_old[row][col] = binary_options[col][row]\n",
        "          response_new[row][col] = binary_options[col][row]\n",
        "  #   if i % 500 == 0 and i < 8000:\n",
        "  #     random_change = np.random.normal(scale=.1,size=(num_players,num_stimuli))\n",
        "  #     response = np.clip(response + random_change,a_min=epsilon,a_max = 1-epsilon)\n",
        "    if i % 2 == 0:\n",
        "      history[\"x\"].append(i)\n",
        "      val = get_mutual_information(response_old)\n",
        "      history[\"y\"].append(val/math.log(2))\n",
        "\n",
        "      val = get_mutual_information(response_new)\n",
        "      history[\"y2\"].append(val/math.log(2))\n",
        "\n",
        "  plt.ylim(0,min(math.log(num_stimuli)/math.log(2), num_players))\n",
        "  plt.plot(history[\"x\"],history[\"y\"], \"b\")\n",
        "  plt.plot(history[\"x\"],history[\"y2\"], \"g\")\n",
        "  file_name = 'images_play{}_stim{}_{}.jpg'.format(num_players,num_stimuli,k)\n",
        "  plt.savefig(file_name)\n",
        "\n",
        "  files.download(file_name)\n",
        "  plt.clf()\n",
        "\n",
        "\n"
      ],
      "execution_count": 0,
      "outputs": [
        {
          "output_type": "error",
          "ename": "KeyboardInterrupt",
          "evalue": "ignored",
          "traceback": [
            "\u001b[0;31m---------------------------------------------------------------------------\u001b[0m",
            "\u001b[0;31mKeyboardInterrupt\u001b[0m                         Traceback (most recent call last)",
            "\u001b[0;32m<ipython-input-9-21b5555ba12c>\u001b[0m in \u001b[0;36m<module>\u001b[0;34m()\u001b[0m\n\u001b[1;32m     22\u001b[0m \u001b[0;34m\u001b[0m\u001b[0m\n\u001b[1;32m     23\u001b[0m     \u001b[0mEV_old\u001b[0m \u001b[0;34m=\u001b[0m \u001b[0mgenerate_BTS\u001b[0m\u001b[0;34m(\u001b[0m\u001b[0mconditional_probabilities_old\u001b[0m\u001b[0;34m,\u001b[0m\u001b[0mresponse_old\u001b[0m\u001b[0;34m)\u001b[0m\u001b[0;34m\u001b[0m\u001b[0;34m\u001b[0m\u001b[0m\n\u001b[0;32m---> 24\u001b[0;31m     \u001b[0mEV_new\u001b[0m \u001b[0;34m=\u001b[0m \u001b[0mgenerate_BTS\u001b[0m\u001b[0;34m(\u001b[0m\u001b[0mconditional_probabilities_new\u001b[0m\u001b[0;34m,\u001b[0m\u001b[0mresponse_new\u001b[0m\u001b[0;34m)\u001b[0m\u001b[0;34m\u001b[0m\u001b[0;34m\u001b[0m\u001b[0m\n\u001b[0m\u001b[1;32m     25\u001b[0m \u001b[0;34m\u001b[0m\u001b[0m\n\u001b[1;32m     26\u001b[0m     \u001b[0mresponse_old\u001b[0m \u001b[0;34m=\u001b[0m \u001b[0mupdate_response\u001b[0m\u001b[0;34m(\u001b[0m\u001b[0mEV_old\u001b[0m\u001b[0;34m,\u001b[0m\u001b[0mnp\u001b[0m\u001b[0;34m.\u001b[0m\u001b[0mrandom\u001b[0m\u001b[0;34m.\u001b[0m\u001b[0muniform\u001b[0m\u001b[0;34m(\u001b[0m\u001b[0mlow\u001b[0m\u001b[0;34m=\u001b[0m\u001b[0;34m-\u001b[0m\u001b[0mdelta\u001b[0m\u001b[0;34m,\u001b[0m\u001b[0mhigh\u001b[0m\u001b[0;34m=\u001b[0m\u001b[0mdelta\u001b[0m\u001b[0;34m)\u001b[0m\u001b[0;34m,\u001b[0m\u001b[0mresponse_old\u001b[0m\u001b[0;34m)\u001b[0m\u001b[0;34m\u001b[0m\u001b[0;34m\u001b[0m\u001b[0m\n",
            "\u001b[0;32m<ipython-input-4-ad2fe5cb14e5>\u001b[0m in \u001b[0;36mgenerate_BTS\u001b[0;34m(conditional_probabilities, response)\u001b[0m\n\u001b[1;32m      1\u001b[0m \u001b[0;32mdef\u001b[0m \u001b[0mgenerate_BTS\u001b[0m\u001b[0;34m(\u001b[0m\u001b[0mconditional_probabilities\u001b[0m\u001b[0;34m,\u001b[0m\u001b[0mresponse\u001b[0m\u001b[0;34m)\u001b[0m\u001b[0;34m:\u001b[0m\u001b[0;34m\u001b[0m\u001b[0;34m\u001b[0m\u001b[0m\n\u001b[0;32m----> 2\u001b[0;31m   \u001b[0mEV_values\u001b[0m \u001b[0;34m=\u001b[0m \u001b[0mnp\u001b[0m\u001b[0;34m.\u001b[0m\u001b[0mzeros\u001b[0m\u001b[0;34m(\u001b[0m\u001b[0mshape\u001b[0m \u001b[0;34m=\u001b[0m \u001b[0;34m(\u001b[0m\u001b[0mnum_players\u001b[0m\u001b[0;34m,\u001b[0m\u001b[0mnum_stimuli\u001b[0m\u001b[0;34m,\u001b[0m\u001b[0;36m2\u001b[0m\u001b[0;34m)\u001b[0m\u001b[0;34m)\u001b[0m\u001b[0;34m\u001b[0m\u001b[0;34m\u001b[0m\u001b[0m\n\u001b[0m\u001b[1;32m      3\u001b[0m   \u001b[0;32mfor\u001b[0m \u001b[0mnode\u001b[0m \u001b[0;32min\u001b[0m \u001b[0mrange\u001b[0m\u001b[0;34m(\u001b[0m\u001b[0mnum_players\u001b[0m\u001b[0;34m)\u001b[0m\u001b[0;34m:\u001b[0m\u001b[0;34m\u001b[0m\u001b[0;34m\u001b[0m\u001b[0m\n\u001b[1;32m      4\u001b[0m     \u001b[0;32mfor\u001b[0m \u001b[0mstimuli\u001b[0m \u001b[0;32min\u001b[0m \u001b[0mrange\u001b[0m\u001b[0;34m(\u001b[0m\u001b[0mnum_stimuli\u001b[0m\u001b[0;34m)\u001b[0m\u001b[0;34m:\u001b[0m\u001b[0;34m\u001b[0m\u001b[0;34m\u001b[0m\u001b[0m\n\u001b[1;32m      5\u001b[0m \u001b[0;34m\u001b[0m\u001b[0m\n",
            "\u001b[0;31mKeyboardInterrupt\u001b[0m: "
          ]
        },
        {
          "output_type": "display_data",
          "data": {
            "text/plain": [
              "<Figure size 576x396 with 0 Axes>"
            ]
          },
          "metadata": {
            "tags": []
          }
        }
      ]
    },
    {
      "cell_type": "code",
      "metadata": {
        "id": "Lc7zwc2aC8sY",
        "colab_type": "code",
        "colab": {}
      },
      "source": [
        "response_old = np.clip(response_old,.05,.95)\n",
        "show_graph(response_old)\n"
      ],
      "execution_count": 0,
      "outputs": []
    },
    {
      "cell_type": "code",
      "metadata": {
        "id": "0yhG-Q3Ylnw_",
        "colab_type": "code",
        "colab": {}
      },
      "source": [
        ""
      ],
      "execution_count": 0,
      "outputs": []
    },
    {
      "cell_type": "code",
      "metadata": {
        "id": "K9Qj82nJZMV7",
        "colab_type": "code",
        "colab": {}
      },
      "source": [
        ""
      ],
      "execution_count": 0,
      "outputs": []
    }
  ]
}